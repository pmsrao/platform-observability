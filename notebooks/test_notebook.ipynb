{
 "cells": [
  {
   "cell_type": "code",
   "execution_count": 0,
   "metadata": {
    "application/vnd.databricks.v1+cell": {
     "cellMetadata": {
      "byteLimit": 2048000,
      "implicitDf": true,
      "rowLimit": 10000
     },
     "inputWidgets": {},
     "nuid": "e649a8d1-1ab2-4e4d-bb54-e2f5a4383676",
     "showTitle": false,
     "tableResultSettingsMap": {},
     "title": ""
    }
   },
   "outputs": [],
   "source": [
    "%sql\n",
    "select * from platform_observability.plt_bronze.brz_billing_usage limit 10"
   ]
  },
  {
   "cell_type": "code",
   "execution_count": 0,
   "metadata": {
    "application/vnd.databricks.v1+cell": {
     "cellMetadata": {
      "byteLimit": 2048000,
      "implicitDf": true,
      "rowLimit": 10000
     },
     "inputWidgets": {},
     "nuid": "ebb3067f-a5d3-42d6-a64b-8982f23dab73",
     "showTitle": false,
     "tableResultSettingsMap": {
      "0": {
       "dataGridStateBlob": "{\"version\":1,\"tableState\":{\"columnPinning\":{\"left\":[\"#row_number#\"],\"right\":[]},\"columnSizing\":{},\"columnVisibility\":{}},\"settings\":{\"columns\":{}},\"syncTimestamp\":1757224403066}",
       "filterBlob": null,
       "queryPlanFiltersBlob": null,
       "tableResultIndex": 0
      }
     },
     "title": ""
    }
   },
   "outputs": [],
   "source": [
    "%sql\n",
    "desc system.lakeflow.job_task_run_timeline"
   ]
  },
  {
   "cell_type": "code",
   "execution_count": 0,
   "metadata": {
    "application/vnd.databricks.v1+cell": {
     "cellMetadata": {
      "byteLimit": 2048000,
      "implicitDf": true,
      "rowLimit": 10000
     },
     "inputWidgets": {},
     "nuid": "fe7449a4-0b9a-4517-bd98-8953462fd917",
     "showTitle": false,
     "tableResultSettingsMap": {},
     "title": ""
    }
   },
   "outputs": [],
   "source": [
    "%sql\n",
    "drop table platform_observability.plt_bronze.brz_billing_usage"
   ]
  },
  {
   "cell_type": "code",
   "execution_count": 0,
   "metadata": {
    "application/vnd.databricks.v1+cell": {
     "cellMetadata": {
      "byteLimit": 2048000,
      "implicitDf": true,
      "rowLimit": 10000
     },
     "inputWidgets": {},
     "nuid": "f83df7cf-b30b-4383-9afd-fc13cb8d4967",
     "showTitle": false,
     "tableResultSettingsMap": {
      "0": {
       "dataGridStateBlob": "{\"version\":1,\"tableState\":{\"columnPinning\":{\"left\":[\"#row_number#\"],\"right\":[]},\"columnSizing\":{},\"columnVisibility\":{}},\"settings\":{\"columns\":{}},\"syncTimestamp\":1757318980441}",
       "filterBlob": null,
       "queryPlanFiltersBlob": null,
       "tableResultIndex": 0
      }
     },
     "title": ""
    }
   },
   "outputs": [],
   "source": [
    "%sql\n",
    "select * from platform_observability.plt_bronze.brz_compute_clusters"
   ]
  },
  {
   "cell_type": "code",
   "execution_count": 0,
   "metadata": {
    "application/vnd.databricks.v1+cell": {
     "cellMetadata": {
      "byteLimit": 2048000,
      "rowLimit": 10000
     },
     "inputWidgets": {},
     "nuid": "8c9d05c6-5968-4caa-971b-c31fadb4d640",
     "showTitle": false,
     "tableResultSettingsMap": {},
     "title": ""
    }
   },
   "outputs": [],
   "source": [
    "# Clear module cache to ensure fresh imports\n",
    "import sys\n",
    "modules_to_clear = [\n",
    "    'libs.error_handling',\n",
    "    'libs.logging', \n",
    "    'libs.monitoring',\n",
    "    'config'\n",
    "]\n",
    "\n",
    "for module in modules_to_clear:\n",
    "    if module in sys.modules:\n",
    "        del sys.modules[module]\n",
    "        print(f\"Cleared {module} from cache\")\n",
    "\n",
    "# Force reimport\n",
    "from libs.error_handling import validate_data_quality\n",
    "from libs.logging import StructuredLogger\n",
    "print(\"✅ Modules reloaded successfully\")"
   ]
  },
  {
   "cell_type": "code",
   "execution_count": 0,
   "metadata": {
    "application/vnd.databricks.v1+cell": {
     "cellMetadata": {
      "byteLimit": 2048000,
      "rowLimit": 10000
     },
     "inputWidgets": {},
     "nuid": "ca775e66-997e-44b6-a52a-dff0e084d4fb",
     "showTitle": false,
     "tableResultSettingsMap": {},
     "title": ""
    }
   },
   "outputs": [],
   "source": [
    "# Clear cache for bronze job\n",
    "import importlib\n",
    "import sys\n",
    "\n",
    "# Clear the specific module\n",
    "if 'notebooks.bronze_hwm_ingest_job' in sys.modules:\n",
    "    importlib.reload(sys.modules['notebooks.bronze_hwm_ingest_job'])\n",
    "    print(\"✅ Bronze job module reloaded\")\n",
    "\n",
    "# Clear all variables\n",
    "%reset -f\n",
    "print(\"✅ All variables cleared\")"
   ]
  },
  {
   "cell_type": "code",
   "execution_count": 0,
   "metadata": {
    "application/vnd.databricks.v1+cell": {
     "cellMetadata": {
      "byteLimit": 2048000,
      "implicitDf": true,
      "rowLimit": 10000
     },
     "inputWidgets": {},
     "nuid": "221c4484-6a32-4712-b765-b756c9c911f6",
     "showTitle": false,
     "tableResultSettingsMap": {},
     "title": ""
    }
   },
   "outputs": [],
   "source": [
    "%sql\n",
    "DROP TABLE IF EXISTS platform_observability.plt_bronze.brz_compute_clusters;"
   ]
  },
  {
   "cell_type": "code",
   "execution_count": 0,
   "metadata": {
    "application/vnd.databricks.v1+cell": {
     "cellMetadata": {
      "byteLimit": 2048000,
      "implicitDf": true,
      "rowLimit": 10000
     },
     "inputWidgets": {},
     "nuid": "065be44e-6a6b-478f-9f31-45fe8fe256cf",
     "showTitle": false,
     "tableResultSettingsMap": {},
     "title": ""
    }
   },
   "outputs": [],
   "source": [
    "%sql\n",
    "SELECT * FROM platform_observability.plt_bronze.error_logs \n",
    "WHERE notebook_name = 'silver_hwm_build_job' \n",
    "ORDER BY timestamp DESC \n",
    "LIMIT 10;"
   ]
  },
  {
   "cell_type": "code",
   "execution_count": 0,
   "metadata": {
    "application/vnd.databricks.v1+cell": {
     "cellMetadata": {
      "byteLimit": 2048000,
      "implicitDf": true,
      "rowLimit": 10000
     },
     "inputWidgets": {},
     "nuid": "9397b0ad-69fb-452f-b093-5df5cd5efb60",
     "showTitle": false,
     "tableResultSettingsMap": {},
     "title": ""
    }
   },
   "outputs": [],
   "source": [
    "%sql\n",
    "truncate table platform_observability.plt_bronze.error_logs "
   ]
  },
  {
   "cell_type": "code",
   "execution_count": 0,
   "metadata": {
    "application/vnd.databricks.v1+cell": {
     "cellMetadata": {
      "byteLimit": 2048000,
      "rowLimit": 10000
     },
     "inputWidgets": {},
     "nuid": "9474605b-50dd-44d9-a8fe-b047cd390663",
     "showTitle": false,
     "tableResultSettingsMap": {},
     "title": ""
    }
   },
   "outputs": [],
   "source": [
    "def clear_old_errors():\n",
    "    try:\n",
    "        table_name = f\"{config.catalog}.{config.bronze_schema}.error_logs\"\n",
    "        \n",
    "        result = spark.sql(f\"\"\"\n",
    "            DELETE FROM {table_name}\n",
    "            WHERE timestamp < current_timestamp() - INTERVAL 7 DAYS\n",
    "        \"\"\")\n",
    "        \n",
    "        print(\"✅ Old errors cleared\")\n",
    "    except Exception as e:\n",
    "        print(f\"❌ Error clearing old errors: {str(e)}\")\n",
    "\n",
    "clear_old_errors()"
   ]
  },
  {
   "cell_type": "code",
   "execution_count": 0,
   "metadata": {
    "application/vnd.databricks.v1+cell": {
     "cellMetadata": {
      "byteLimit": 2048000,
      "implicitDf": true,
      "rowLimit": 10000
     },
     "inputWidgets": {},
     "nuid": "3d5ae3cf-791b-4212-91b5-91ef0fbab809",
     "showTitle": false,
     "tableResultSettingsMap": {},
     "title": ""
    }
   },
   "outputs": [],
   "source": [
    "%sql\n",
    "select * from platform_observability.plt_silver.slv_workspace"
   ]
  },
  {
   "cell_type": "code",
   "execution_count": 0,
   "metadata": {
    "application/vnd.databricks.v1+cell": {
     "cellMetadata": {
      "byteLimit": 2048000,
      "implicitDf": true,
      "rowLimit": 10000
     },
     "inputWidgets": {},
     "nuid": "92dabd82-3745-4b5d-a8f1-596f39113495",
     "showTitle": false,
     "tableResultSettingsMap": {
      "0": {
       "dataGridStateBlob": "{\"version\":1,\"tableState\":{\"columnPinning\":{\"left\":[\"#row_number#\"],\"right\":[]},\"columnSizing\":{},\"columnVisibility\":{}},\"settings\":{\"columns\":{}},\"syncTimestamp\":1757315528585}",
       "filterBlob": null,
       "queryPlanFiltersBlob": null,
       "tableResultIndex": 0
      }
     },
     "title": ""
    }
   },
   "outputs": [],
   "source": [
    "%sql\n",
    "select * from platform_observability.plt_bronze.brz_billing_list_prices"
   ]
  },
  {
   "cell_type": "code",
   "execution_count": 0,
   "metadata": {
    "application/vnd.databricks.v1+cell": {
     "cellMetadata": {
      "byteLimit": 2048000,
      "implicitDf": true,
      "rowLimit": 10000
     },
     "inputWidgets": {},
     "nuid": "03250eba-5f2e-4f92-a381-22f3732743c7",
     "showTitle": false,
     "tableResultSettingsMap": {},
     "title": ""
    }
   },
   "outputs": [],
   "source": [
    "%sql\n",
    "desc platform_observability.plt_bronze.brz_lakeflow_job_task_run_timeline"
   ]
  },
  {
   "cell_type": "code",
   "execution_count": 0,
   "metadata": {
    "application/vnd.databricks.v1+cell": {
     "cellMetadata": {
      "byteLimit": 2048000,
      "implicitDf": true,
      "rowLimit": 10000
     },
     "inputWidgets": {},
     "nuid": "201a3613-1ec9-4777-ba62-538d7893cda8",
     "showTitle": false,
     "tableResultSettingsMap": {},
     "title": ""
    }
   },
   "outputs": [],
   "source": [
    "%sql\n",
    "select * from system.compute.clusters"
   ]
  },
  {
   "cell_type": "code",
   "execution_count": 0,
   "metadata": {
    "application/vnd.databricks.v1+cell": {
     "cellMetadata": {
      "byteLimit": 2048000,
      "implicitDf": true,
      "rowLimit": 10000
     },
     "inputWidgets": {},
     "nuid": "2e7d88bd-03a6-4f37-9e84-05054ca8daf7",
     "showTitle": false,
     "tableResultSettingsMap": {
      "0": {
       "dataGridStateBlob": "{\"version\":1,\"tableState\":{\"columnPinning\":{\"left\":[\"#row_number#\"],\"right\":[]},\"columnSizing\":{},\"columnVisibility\":{}},\"settings\":{\"columns\":{}},\"syncTimestamp\":1757354793446}",
       "filterBlob": null,
       "queryPlanFiltersBlob": null,
       "tableResultIndex": 0
      }
     },
     "title": ""
    }
   },
   "outputs": [],
   "source": [
    "%sql\n",
    "select * from platform_observability.plt_bronze.brz_billing_list_prices"
   ]
  },
  {
   "cell_type": "code",
   "execution_count": 0,
   "metadata": {
    "application/vnd.databricks.v1+cell": {
     "cellMetadata": {
      "byteLimit": 2048000,
      "implicitDf": true,
      "rowLimit": 10000
     },
     "inputWidgets": {},
     "nuid": "9b0436e6-8dad-4768-90b5-1e3114cf5d8a",
     "showTitle": false,
     "tableResultSettingsMap": {},
     "title": ""
    }
   },
   "outputs": [],
   "source": [
    "%sql\n",
    "select * from system.lakeflow.jobs"
   ]
  },
  {
   "cell_type": "code",
   "execution_count": 0,
   "metadata": {
    "application/vnd.databricks.v1+cell": {
     "cellMetadata": {},
     "inputWidgets": {},
     "nuid": "6a70125e-ed5e-448b-b742-3fd1bdb66be7",
     "showTitle": false,
     "tableResultSettingsMap": {},
     "title": ""
    }
   },
   "outputs": [],
   "source": [
    "source.account_id, source.workspace_id, source.cluster_id, source.cluster_name, source.owned_by, source.create_time, source.delete_time, source.driver_node_type, source.worker_node_type, source.worker_count, source.min_autoscale_workers, source.max_autoscale_workers, source.auto_termination_minutes, source.enable_elastic_disk, source.tags, source.cluster_source, source.init_scripts, source.aws_attributes, source.azure_attributes, source.gcp_attributes, source.driver_instance_pool_id, source.worker_instance_pool_id, source.dbr_version, source.change_time, source.change_date, source.data_security_mode, source.policy_id, source._loaded_at, source.valid_from, source.valid_to, source.is_current, source.worker_node_type_category"
   ]
  },
  {
   "cell_type": "code",
   "execution_count": 0,
   "metadata": {
    "application/vnd.databricks.v1+cell": {
     "cellMetadata": {},
     "inputWidgets": {},
     "nuid": "d870ca48-39e6-4c8c-a1e3-648d01a7fa89",
     "showTitle": false,
     "tableResultSettingsMap": {},
     "title": ""
    }
   },
   "outputs": [],
   "source": [
    "%sql\n",
    "CREATE TABLE IF NOT EXISTS {catalog}.{silver_schema}.slv_clusters (\n",
    "    account_id STRING,\n",
    "    workspace_id STRING,                 -- Changed from BIGINT to STRING\n",
    "    cluster_id STRING,\n",
    "    cluster_name STRING,\n",
    "    owned_by STRING,\n",
    "    create_time TIMESTAMP,\n",
    "    delete_time TIMESTAMP,\n",
    "    driver_node_type STRING,             -- Renamed from driver_node_type_id\n",
    "    worker_node_type STRING,             -- Renamed from node_type_id\n",
    "    worker_count BIGINT,                 -- Total worker count\n",
    "    min_autoscale_workers BIGINT,        -- Renamed from min_workers\n",
    "    max_autoscale_workers BIGINT,        -- Renamed from max_workers\n",
    "    auto_termination_minutes BIGINT,\n",
    "    enable_elastic_disk BOOLEAN,\n",
    "    tags MAP<STRING, STRING>,\n",
    "    cluster_source STRING,\n",
    "    init_scripts ARRAY<STRING>,\n",
    "    aws_attributes STRUCT<\n",
    "        instance_profile_arn:STRING,\n",
    "        zone_id:STRING,\n",
    "        first_on_demand:INT,\n",
    "        availability:STRING,\n",
    "        spot_bid_price_percent:INT,\n",
    "        ebs_volume_type:STRING,\n",
    "        ebs_volume_count:INT,\n",
    "        ebs_volume_size:INT,\n",
    "        ebs_volume_iops:INT,\n",
    "        ebs_volume_throughput:INT\n",
    "    >,\n",
    "    azure_attributes STRUCT<\n",
    "        first_on_demand:INT,\n",
    "        availability:STRING,\n",
    "        spot_bid_max_price:DOUBLE\n",
    "    >,\n",
    "    gcp_attributes STRUCT<\n",
    "        use_preemptible_executors:BOOLEAN,\n",
    "        zone_id:STRING,\n",
    "        first_on_demand:INT,\n",
    "        availability:STRING\n",
    "    >,\n",
    "    driver_instance_pool_id STRING,\n",
    "    worker_instance_pool_id STRING,\n",
    "    dbr_version STRING,                  -- Renamed from spark_version\n",
    "    change_time TIMESTAMP,\n",
    "    change_date DATE,\n",
    "    data_security_mode STRING,\n",
    "    policy_id STRING,\n",
    "    -- NEW: Node type categorization (retain original + add categorized)\n",
    "    worker_node_type_category STRING,    -- Categorized node type (General Purpose, Memory Optimized, etc.)\n",
    "    -- NEW: Inherited job tags for cost attribution\n",
    "    inherited_line_of_business STRING,\n",
    "    inherited_department STRING,\n",
    "    inherited_cost_center STRING,\n",
    "    inherited_environment STRING,\n",
    "    inherited_use_case STRING,\n",
    "    inherited_workflow_level STRING,\n",
    "    inherited_parent_workflow STRING,\n",
    "    -- NEW: Computed runtime fields\n",
    "    major_version INT,\n",
    "    minor_version INT,\n",
    "    runtime_age_months INT,\n",
    "    is_lts BOOLEAN,\n",
    "    _loaded_at TIMESTAMP,\n",
    "    -- SCD2 columns\n",
    "    valid_from TIMESTAMP,\n",
    "    valid_to TIMESTAMP,\n",
    "    is_current BOOLEAN\n",
    ") USING DELTA;"
   ]
  },
  {
   "cell_type": "code",
   "execution_count": 0,
   "metadata": {
    "application/vnd.databricks.v1+cell": {
     "cellMetadata": {
      "byteLimit": 2048000,
      "implicitDf": true,
      "rowLimit": 10000
     },
     "inputWidgets": {},
     "nuid": "0039ba0d-e765-4aaf-acca-738fef3ef8b2",
     "showTitle": false,
     "tableResultSettingsMap": {},
     "title": ""
    }
   },
   "outputs": [],
   "source": [
    "%sql\n",
    "select * from platform_observability.plt_silver.slv_clusters"
   ]
  },
  {
   "cell_type": "code",
   "execution_count": 0,
   "metadata": {
    "application/vnd.databricks.v1+cell": {
     "cellMetadata": {
      "byteLimit": 2048000,
      "implicitDf": true,
      "rowLimit": 10000
     },
     "inputWidgets": {},
     "nuid": "50621d82-68ba-400d-9782-7874f0121070",
     "showTitle": false,
     "tableResultSettingsMap": {},
     "title": ""
    }
   },
   "outputs": [],
   "source": [
    "%sql\n",
    "CREATE OR REPLACE TABLE platform_observability.plt_gold.gld_dim_node_type (\n",
    "    node_type_key BIGINT GENERATED ALWAYS AS IDENTITY,  -- Surrogate key\n",
    "    account_id STRING,\n",
    "    node_type STRING,                    -- Natural key (renamed from node_type_id to match source)\n",
    "    core_count DOUBLE,                   -- Renamed from vcpus to match source\n",
    "    memory_mb BIGINT,                    -- Renamed from memory_gb and changed type\n",
    "    gpu_count BIGINT,                    -- Changed type to match source\n",
    "    category STRING,                     -- Node type category from Silver layer\n",
    "    worker_node_type_category STRING     -- Categorized node type (General Purpose, Memory Optimized, etc.)\n",
    ")\n",
    "USING DELTA;"
   ]
  },
  {
   "cell_type": "code",
   "execution_count": 0,
   "metadata": {
    "application/vnd.databricks.v1+cell": {
     "cellMetadata": {
      "byteLimit": 2048000,
      "implicitDf": true,
      "rowLimit": 10000
     },
     "inputWidgets": {},
     "nuid": "6ce1a8ea-e694-4220-8ecb-e360cf6b4413",
     "showTitle": false,
     "tableResultSettingsMap": {},
     "title": ""
    }
   },
   "outputs": [],
   "source": [
    "%sql\n",
    "select * from platform_observability.plt_gold.gld_dim_cluster"
   ]
  },
  {
   "cell_type": "code",
   "execution_count": 0,
   "metadata": {
    "application/vnd.databricks.v1+cell": {
     "cellMetadata": {
      "byteLimit": 2048000,
      "implicitDf": true,
      "rowLimit": 10000
     },
     "inputWidgets": {},
     "nuid": "655b3bdb-05cb-42b3-b123-a7bc142c79c9",
     "showTitle": false,
     "tableResultSettingsMap": {},
     "title": ""
    }
   },
   "outputs": [],
   "source": [
    "%sql\n",
    "select * from platform_observability.plt_gold.gld_dim_sku"
   ]
  },
  {
   "cell_type": "code",
   "execution_count": 0,
   "metadata": {
    "application/vnd.databricks.v1+cell": {
     "cellMetadata": {
      "byteLimit": 2048000,
      "implicitDf": true,
      "rowLimit": 10000
     },
     "inputWidgets": {},
     "nuid": "04396bd3-76fa-4795-9eec-0c257f567ba9",
     "showTitle": false,
     "tableResultSettingsMap": {},
     "title": ""
    }
   },
   "outputs": [],
   "source": [
    "%sql\n",
    "select * from platform_observability.plt_silver.slv_usage_txn"
   ]
  },
  {
   "cell_type": "code",
   "execution_count": 0,
   "metadata": {
    "application/vnd.databricks.v1+cell": {
     "cellMetadata": {
      "byteLimit": 2048000,
      "implicitDf": true,
      "rowLimit": 10000
     },
     "inputWidgets": {},
     "nuid": "5c49bd6e-35b1-49ae-b10f-0216b0530a53",
     "showTitle": false,
     "tableResultSettingsMap": {},
     "title": ""
    }
   },
   "outputs": [],
   "source": [
    "%sql\n",
    "select * from platform_observability.plt_silver.slv_job_run_timeline"
   ]
  },
  {
   "cell_type": "code",
   "execution_count": 0,
   "metadata": {
    "application/vnd.databricks.v1+cell": {
     "cellMetadata": {
      "byteLimit": 2048000,
      "implicitDf": true,
      "rowLimit": 10000
     },
     "inputWidgets": {},
     "nuid": "71690815-b63b-421d-a44c-c9275f204c1e",
     "showTitle": false,
     "tableResultSettingsMap": {},
     "title": ""
    }
   },
   "outputs": [],
   "source": [
    "%sql\n",
    "select * from platform_observability.plt_silver.slv_usage_txn"
   ]
  },
  {
   "cell_type": "code",
   "execution_count": 0,
   "metadata": {
    "application/vnd.databricks.v1+cell": {
     "cellMetadata": {
      "byteLimit": 2048000,
      "implicitDf": true,
      "rowLimit": 10000
     },
     "inputWidgets": {},
     "nuid": "14314d2f-ca5d-4839-888c-b42d9f458180",
     "showTitle": false,
     "tableResultSettingsMap": {},
     "title": ""
    }
   },
   "outputs": [],
   "source": [
    "%sql\n",
    "select * from platform_observability.plt_gold.gld_dim_entity"
   ]
  },
  {
   "cell_type": "code",
   "execution_count": 0,
   "metadata": {
    "application/vnd.databricks.v1+cell": {
     "cellMetadata": {
      "byteLimit": 2048000,
      "implicitDf": true,
      "rowLimit": 10000
     },
     "inputWidgets": {},
     "nuid": "89a25897-c29b-4a52-beb2-7a2054bc8498",
     "showTitle": false,
     "tableResultSettingsMap": {},
     "title": ""
    }
   },
   "outputs": [],
   "source": [
    "%sql\n",
    "select * from platform_observability.plt_bronze.brz_lakeflow_pipelines"
   ]
  },
  {
   "cell_type": "code",
   "execution_count": 0,
   "metadata": {
    "application/vnd.databricks.v1+cell": {
     "cellMetadata": {
      "byteLimit": 2048000,
      "implicitDf": true,
      "rowLimit": 10000
     },
     "inputWidgets": {},
     "nuid": "5f8061e4-f0a8-4952-a77e-09677db28d92",
     "showTitle": false,
     "tableResultSettingsMap": {},
     "title": ""
    }
   },
   "outputs": [],
   "source": [
    "%sql\n",
    "select * from platform_observability.plt_gold.gld_dim_entity"
   ]
  },
  {
   "cell_type": "code",
   "execution_count": 0,
   "metadata": {
    "application/vnd.databricks.v1+cell": {
     "cellMetadata": {
      "byteLimit": 2048000,
      "implicitDf": true,
      "rowLimit": 10000
     },
     "inputWidgets": {},
     "nuid": "f3984a07-8a8f-4547-bfbf-3f31695ab731",
     "showTitle": false,
     "tableResultSettingsMap": {},
     "title": ""
    }
   },
   "outputs": [],
   "source": [
    "%sql\n",
    "select * from platform_observability.plt_silver.slv_entity_latest"
   ]
  },
  {
   "cell_type": "code",
   "execution_count": 0,
   "metadata": {
    "application/vnd.databricks.v1+cell": {
     "cellMetadata": {
      "byteLimit": 2048000,
      "implicitDf": true,
      "rowLimit": 10000
     },
     "inputWidgets": {},
     "nuid": "55901c75-a55e-4d85-a485-dae9076cb9ae",
     "showTitle": false,
     "tableResultSettingsMap": {
      "0": {
       "dataGridStateBlob": "{\"version\":1,\"tableState\":{\"columnPinning\":{\"left\":[\"#row_number#\"],\"right\":[]},\"columnSizing\":{},\"columnVisibility\":{}},\"settings\":{\"columns\":{}},\"syncTimestamp\":1757401368933}",
       "filterBlob": null,
       "queryPlanFiltersBlob": null,
       "tableResultIndex": 0
      }
     },
     "title": ""
    }
   },
   "outputs": [],
   "source": [
    "%sql\n",
    "select * from platform_observability.plt_bronze.brz_lakeflow_pipelines"
   ]
  },
  {
   "cell_type": "code",
   "execution_count": 0,
   "metadata": {
    "application/vnd.databricks.v1+cell": {
     "cellMetadata": {},
     "inputWidgets": {},
     "nuid": "6228cf58-9a40-4eb6-9e0b-f3744c553f38",
     "showTitle": false,
     "tableResultSettingsMap": {},
     "title": ""
    }
   },
   "outputs": [],
   "source": [
    "%sql\n",
    "select * from "
   ]
  },
  {
   "cell_type": "code",
   "execution_count": 0,
   "metadata": {
    "application/vnd.databricks.v1+cell": {
     "cellMetadata": {
      "byteLimit": 2048000,
      "implicitDf": true,
      "rowLimit": 10000
     },
     "inputWidgets": {},
     "nuid": "08449c36-ded6-44d7-be43-9b36155f249f",
     "showTitle": false,
     "tableResultSettingsMap": {},
     "title": ""
    }
   },
   "outputs": [],
   "source": [
    "%sql\n",
    "CREATE OR REPLACE VIEW platform_observability.plt_gold.v_department_cost_summary AS \n",
    "            SELECT \n",
    "                f.department as department_code,\n",
    "                w.workspace_name,\n",
    "                f.date_key,\n",
    "                SUM(f.list_cost_usd) as department_total_cost,\n",
    "                COUNT(DISTINCT e.entity_id) as active_entities,\n",
    "                AVG(f.list_cost_usd) as avg_cost_per_entity,\n",
    "                COUNT(DISTINCT w.workspace_id) as active_workspaces\n",
    "            FROM platform_observability.plt_gold.gld_fact_usage_priced_day f\n",
    "            JOIN platform_observability.plt_gold.gld_dim_workspace w ON f.workspace_key = w.workspace_key\n",
    "            JOIN platform_observability.plt_gold.gld_dim_entity e ON f.entity_key = e.entity_key\n",
    "            GROUP BY f.department, w.workspace_name, f.date_key, e.entity_id"
   ]
  },
  {
   "cell_type": "code",
   "execution_count": 0,
   "metadata": {
    "application/vnd.databricks.v1+cell": {
     "cellMetadata": {},
     "inputWidgets": {},
     "nuid": "cea1e893-3699-4287-8ec2-6f73417a1750",
     "showTitle": false,
     "tableResultSettingsMap": {},
     "title": ""
    }
   },
   "outputs": [],
   "source": []
  }
 ],
 "metadata": {
  "application/vnd.databricks.v1+notebook": {
   "computePreferences": {
    "hardware": {
     "accelerator": null,
     "gpuPoolId": null,
     "memory": null
    }
   },
   "dashboards": [],
   "environmentMetadata": {
    "base_environment": "",
    "environment_version": "3"
   },
   "inputWidgetPreferences": null,
   "language": "python",
   "notebookMetadata": {
    "mostRecentlyExecutedCommandWithImplicitDF": {
     "commandId": 7050288970390017,
     "dataframes": [
      "_sqldf"
     ]
    },
    "pythonIndentUnit": 4
   },
   "notebookName": "test_notebook",
   "widgets": {}
  },
  "language_info": {
   "name": "python"
  }
 },
 "nbformat": 4,
 "nbformat_minor": 0
}
