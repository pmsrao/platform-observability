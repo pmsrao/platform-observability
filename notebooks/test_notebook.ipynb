{
 "cells": [
  {
   "cell_type": "code",
   "execution_count": 0,
   "metadata": {
    "application/vnd.databricks.v1+cell": {
     "cellMetadata": {
      "byteLimit": 2048000,
      "implicitDf": true,
      "rowLimit": 10000
     },
     "inputWidgets": {},
     "nuid": "84b862a5-3346-4403-9957-959b2889cd07",
     "showTitle": false,
     "tableResultSettingsMap": {
      "0": {
       "dataGridStateBlob": null,
       "filterBlob": "{\"version\":1,\"filterGroups\":[{\"enabled\":true,\"filterGroupId\":\"fg_6f37e295\",\"op\":\"OR\",\"filters\":[{\"filterId\":\"f_89e70347\",\"enabled\":true,\"columnId\":\"task_name\",\"dataType\":\"string\",\"filterType\":\"oneof\",\"filterValues\":[\"task_slv_entity_latest\"],\"filterConfig\":{\"caseSensitive\":true}}],\"local\":false,\"updatedAt\":1757596669010}],\"syncTimestamp\":1757596669010}",
       "queryPlanFiltersBlob": "[{\"kind\":\"call\",\"function\":\"or\",\"args\":[{\"kind\":\"call\",\"function\":\"in\",\"args\":[{\"kind\":\"identifier\",\"identifier\":\"task_name\"},{\"kind\":\"literal\",\"value\":\"task_slv_entity_latest\",\"type\":\"string\"}]}]}]",
       "tableResultIndex": 0
      }
     },
     "title": ""
    }
   },
   "outputs": [],
   "source": [
    "%sql\n",
    "select * from platform_observability.plt_silver.`_cdf_processing_offsets` "
   ]
  },
  {
   "cell_type": "code",
   "execution_count": 0,
   "metadata": {
    "application/vnd.databricks.v1+cell": {
     "cellMetadata": {
      "byteLimit": 2048000,
      "implicitDf": true,
      "rowLimit": 10000
     },
     "inputWidgets": {},
     "nuid": "72988055-0c60-4214-8f2d-c3fa9cc9b745",
     "showTitle": false,
     "tableResultSettingsMap": {},
     "title": ""
    }
   },
   "outputs": [],
   "source": [
    "%sql\n",
    "delete from platform_observability.plt_silver.`_cdf_processing_offsets` where task_name like '%task_slv_entity_latest%'"
   ]
  },
  {
   "cell_type": "code",
   "execution_count": 0,
   "metadata": {
    "application/vnd.databricks.v1+cell": {
     "cellMetadata": {
      "byteLimit": 2048000,
      "implicitDf": true,
      "rowLimit": 10000
     },
     "collapsed": true,
     "inputWidgets": {},
     "nuid": "2f9d76d7-5f29-42c8-ae1f-8360ae036cc3",
     "showTitle": false,
     "tableResultSettingsMap": {
      "0": {
       "dataGridStateBlob": "{\"version\":1,\"tableState\":{\"columnPinning\":{\"left\":[\"#row_number#\"],\"right\":[]},\"columnSizing\":{},\"columnVisibility\":{}},\"settings\":{\"columns\":{}},\"syncTimestamp\":1757577485751}",
       "filterBlob": "{\"version\":1,\"filterGroups\":[{\"enabled\":true,\"op\":\"OR\",\"filterGroupId\":\"fg_898aaf1e\",\"filters\":[{\"filterId\":\"f_c4d6da38\",\"columnId\":\"_change_type\",\"enabled\":true,\"dataType\":\"string\",\"filterType\":\"oneof\",\"filterValue\":\"\",\"filterValues\":[\"insert\"],\"filterConfig\":{\"caseSensitive\":true}}],\"local\":false,\"updatedAt\":1757577391564}],\"syncTimestamp\":1757578178891}",
       "queryPlanFiltersBlob": "[{\"kind\":\"call\",\"function\":\"or\",\"args\":[{\"kind\":\"call\",\"function\":\"in\",\"args\":[{\"kind\":\"identifier\",\"identifier\":\"_change_type\"},{\"kind\":\"literal\",\"value\":\"insert\",\"type\":\"string\"}]}]}]",
       "tableResultIndex": 0
      }
     },
     "title": ""
    }
   },
   "outputs": [],
   "source": [
    "%sql\n",
    "SELECT * FROM table_changes('platform_observability.plt_bronze.brz_billing_list_prices', '2025-09-10T10:10:11.000+00:00')"
   ]
  },
  {
   "cell_type": "code",
   "execution_count": 0,
   "metadata": {
    "application/vnd.databricks.v1+cell": {
     "cellMetadata": {
      "byteLimit": 2048000,
      "implicitDf": true,
      "rowLimit": 10000
     },
     "inputWidgets": {},
     "nuid": "c433d31b-10c2-4f19-be0b-bc3f0f48baca",
     "showTitle": false,
     "tableResultSettingsMap": {},
     "title": ""
    }
   },
   "outputs": [],
   "source": [
    "%sql\n",
    "SELECT 'slv_workspace' AS silver_table,\n",
    "       COUNT(*) AS silver_count,\n",
    "       (SELECT COUNT(*) FROM platform_observability.plt_bronze.brz_access_workspaces_latest) AS bronze_count,\n",
    "(SELECT COUNT(*) FROM platform_observability.plt_gold.gld_dim_workspace) AS gold_count\n",
    "FROM platform_observability.plt_silver.slv_workspace\n",
    "\n",
    "UNION ALL\n",
    "\n",
    "SELECT 'slv_entity_latest' AS silver_table,\n",
    "       COUNT(*) AS silver_count,\n",
    "       (SELECT COUNT(*) FROM platform_observability.plt_bronze.brz_lakeflow_pipelines) \n",
    "       + (SELECT COUNT(*) FROM platform_observability.plt_bronze.brz_lakeflow_jobs) AS bronze_count,\n",
    "       (SELECT COUNT(*) FROM platform_observability.plt_gold.gld_dim_entity) AS gold_count\n",
    "FROM platform_observability.plt_silver.slv_entity_latest\n",
    "\n",
    "UNION ALL\n",
    "\n",
    "SELECT 'slv_clusters' AS silver_table,\n",
    "       COUNT(*) AS silver_count,\n",
    "       (SELECT COUNT(*) FROM platform_observability.plt_bronze.brz_compute_clusters) AS bronze_count,\n",
    "       (SELECT COUNT(*) FROM platform_observability.plt_gold.gld_dim_cluster) AS gold_count\n",
    "FROM platform_observability.plt_silver.slv_clusters\n",
    "\n",
    "UNION ALL\n",
    "\n",
    "SELECT 'slv_usage_txn' AS silver_table,\n",
    "       COUNT(*) AS silver_count,\n",
    "       (SELECT COUNT(*) FROM platform_observability.plt_bronze.brz_billing_usage) AS bronze_count,\n",
    "       (SELECT COUNT(*) FROM platform_observability.plt_gold.gld_fact_usage_priced_day) AS gold_count\n",
    "FROM platform_observability.plt_silver.slv_usage_txn\n",
    "\n",
    "UNION ALL\n",
    "\n",
    "SELECT 'slv_job_run_timeline' AS silver_table,\n",
    "       COUNT(*) AS silver_count,\n",
    "       (SELECT COUNT(*) FROM platform_observability.plt_bronze.brz_lakeflow_job_run_timeline) AS bronze_count,\n",
    "       NULL AS gold_count\n",
    "FROM platform_observability.plt_silver.slv_job_run_timeline\n",
    "\n",
    "UNION ALL\n",
    "\n",
    "SELECT 'slv_job_task_run_timeline' AS silver_table,\n",
    "       COUNT(*) AS silver_count,\n",
    "       (SELECT COUNT(*) FROM platform_observability.plt_bronze.brz_lakeflow_job_task_run_timeline) AS bronze_count,\n",
    "       NULL as gold_count\n",
    "FROM platform_observability.plt_silver.slv_job_task_run_timeline\n",
    "\n",
    "UNION ALL\n",
    "\n",
    "SELECT 'slv_compute_node_type_scd' AS silver_table,\n",
    "       COUNT(*) AS silver_count,\n",
    "       (SELECT COUNT(*) FROM platform_observability.plt_bronze.brz_compute_node_types) AS bronze_count,\n",
    "       (SELECT COUNT(*) FROM platform_observability.plt_gold.gld_dim_node_type) AS gold_count\n",
    "FROM platform_observability.plt_silver.slv_compute_node_type_scd\n",
    "\n",
    "UNION ALL\n",
    "\n",
    "SELECT 'slv_price_scd' AS silver_table,\n",
    "       COUNT(*) AS silver_count,\n",
    "       (SELECT COUNT(*) FROM platform_observability.plt_bronze.brz_billing_list_prices) AS bronze_count,\n",
    "       NULL AS gold_count\n",
    "FROM platform_observability.plt_silver.slv_price_scd;\n"
   ]
  },
  {
   "cell_type": "code",
   "execution_count": 0,
   "metadata": {
    "application/vnd.databricks.v1+cell": {
     "cellMetadata": {
      "byteLimit": 2048000,
      "implicitDf": true,
      "rowLimit": 10000
     },
     "inputWidgets": {},
     "nuid": "d023de17-ed0e-4976-8599-edac02e09e8c",
     "showTitle": false,
     "tableResultSettingsMap": {},
     "title": ""
    }
   },
   "outputs": [],
   "source": [
    "%sql\n",
    "select * from platform_observability.plt_gold.gld_dim_entity"
   ]
  }
 ],
 "metadata": {
  "application/vnd.databricks.v1+notebook": {
   "computePreferences": {
    "hardware": {
     "accelerator": null,
     "gpuPoolId": null,
     "memory": null
    }
   },
   "dashboards": [],
   "environmentMetadata": {
    "base_environment": "",
    "environment_version": "3"
   },
   "inputWidgetPreferences": null,
   "language": "python",
   "notebookMetadata": {
    "mostRecentlyExecutedCommandWithImplicitDF": {
     "commandId": 6119567003399322,
     "dataframes": [
      "_sqldf"
     ]
    },
    "pythonIndentUnit": 4
   },
   "notebookName": "test_notebook",
   "widgets": {}
  },
  "language_info": {
   "name": "python"
  }
 },
 "nbformat": 4,
 "nbformat_minor": 0
}
