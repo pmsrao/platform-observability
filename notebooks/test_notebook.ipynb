{
 "cells": [
  {
   "cell_type": "code",
   "execution_count": 0,
   "metadata": {
    "application/vnd.databricks.v1+cell": {
     "cellMetadata": {
      "byteLimit": 2048000,
      "implicitDf": true,
      "rowLimit": 10000
     },
     "inputWidgets": {},
     "nuid": "84b862a5-3346-4403-9957-959b2889cd07",
     "showTitle": false,
     "tableResultSettingsMap": {
      "0": {
       "dataGridStateBlob": null,
       "filterBlob": "{\"version\":1,\"filterGroups\":[],\"syncTimestamp\":1757681691478}",
       "queryPlanFiltersBlob": "[]",
       "tableResultIndex": 0
      }
     },
     "title": ""
    }
   },
   "outputs": [],
   "source": [
    "%sql\n",
    "select * from platform_observability.plt_silver.`_cdf_processing_offsets` "
   ]
  },
  {
   "cell_type": "code",
   "execution_count": 0,
   "metadata": {
    "application/vnd.databricks.v1+cell": {
     "cellMetadata": {
      "byteLimit": 2048000,
      "implicitDf": true,
      "rowLimit": 10000
     },
     "inputWidgets": {},
     "nuid": "72988055-0c60-4214-8f2d-c3fa9cc9b745",
     "showTitle": false,
     "tableResultSettingsMap": {},
     "title": ""
    }
   },
   "outputs": [],
   "source": [
    "%sql\n",
    "delete from platform_observability.plt_silver.`_cdf_processing_offsets` where task_name like '%gld%'"
   ]
  },
  {
   "cell_type": "code",
   "execution_count": 0,
   "metadata": {
    "application/vnd.databricks.v1+cell": {
     "cellMetadata": {
      "byteLimit": 2048000,
      "implicitDf": true,
      "rowLimit": 10000
     },
     "inputWidgets": {},
     "nuid": "265178c3-0583-49d6-ad8b-3677d52e9a5f",
     "showTitle": false,
     "tableResultSettingsMap": {},
     "title": ""
    }
   },
   "outputs": [],
   "source": [
    "%sql\n",
    "truncate table platform_observability.plt_gold.gld_fact_usage_priced_day;\n",
    "truncate table platform_observability.plt_gold.gld_fact_runs_finished_day;\n",
    "truncate table platform_observability.plt_gold.gld_fact_run_cost;\n",
    "truncate table platform_observability.plt_gold.gld_fact_entity_cost;\n",
    "truncate table platform_observability.plt_gold.gld_fact_run_status_cost;"
   ]
  },
  {
   "cell_type": "code",
   "execution_count": 0,
   "metadata": {
    "application/vnd.databricks.v1+cell": {
     "cellMetadata": {
      "byteLimit": 2048000,
      "implicitDf": true,
      "rowLimit": 10000
     },
     "inputWidgets": {},
     "nuid": "cee4d125-64fc-4fa3-8856-dc03e3968b2b",
     "showTitle": false,
     "tableResultSettingsMap": {},
     "title": ""
    }
   },
   "outputs": [],
   "source": [
    "%sql\n",
    "select count(*), \"gld_fact_usage_priced_day\" as table from  platform_observability.plt_gold.gld_fact_usage_priced_day\n",
    "union\n",
    "select count(*) from  platform_observability.plt_gold.gld_fact_runs_finished_day\n",
    "union\n",
    "select count(*) from  platform_observability.plt_gold.gld_fact_run_cost \n",
    "union\n",
    "select count(*) from  platform_observability.plt_gold.gld_fact_entity_cost \n",
    "union\n",
    "select count(*) from  platform_observability.plt_gold.gld_fact_run_status_cost;"
   ]
  },
  {
   "cell_type": "code",
   "execution_count": 0,
   "metadata": {
    "application/vnd.databricks.v1+cell": {
     "cellMetadata": {
      "byteLimit": 2048000,
      "implicitDf": true,
      "rowLimit": 10000
     },
     "inputWidgets": {},
     "nuid": "c433d31b-10c2-4f19-be0b-bc3f0f48baca",
     "showTitle": false,
     "tableResultSettingsMap": {},
     "title": ""
    }
   },
   "outputs": [],
   "source": [
    "%sql\n",
    "SELECT 'slv_workspace' AS silver_table,\n",
    "       COUNT(*) AS silver_count,\n",
    "       (SELECT COUNT(*) FROM platform_observability.plt_bronze.brz_access_workspaces_latest) AS bronze_count,\n",
    "(SELECT COUNT(*) FROM platform_observability.plt_gold.gld_dim_workspace) AS gold_count\n",
    "FROM platform_observability.plt_silver.slv_workspace\n",
    "\n",
    "UNION ALL\n",
    "\n",
    "SELECT 'slv_entity_latest' AS silver_table,\n",
    "       COUNT(*) AS silver_count,\n",
    "       (SELECT COUNT(*) FROM platform_observability.plt_bronze.brz_lakeflow_pipelines) \n",
    "       + (SELECT COUNT(*) FROM platform_observability.plt_bronze.brz_lakeflow_jobs) AS bronze_count,\n",
    "       (SELECT COUNT(*) FROM platform_observability.plt_gold.gld_dim_entity) AS gold_count\n",
    "FROM platform_observability.plt_silver.slv_entity_latest\n",
    "\n",
    "UNION ALL\n",
    "\n",
    "SELECT 'slv_clusters' AS silver_table,\n",
    "       COUNT(*) AS silver_count,\n",
    "       (SELECT COUNT(*) FROM platform_observability.plt_bronze.brz_compute_clusters) AS bronze_count,\n",
    "       (SELECT COUNT(*) FROM platform_observability.plt_gold.gld_dim_cluster) AS gold_count\n",
    "FROM platform_observability.plt_silver.slv_clusters\n",
    "\n",
    "UNION ALL\n",
    "\n",
    "SELECT 'slv_usage_txn' AS silver_table,\n",
    "       COUNT(*) AS silver_count,\n",
    "       (SELECT COUNT(*) FROM platform_observability.plt_bronze.brz_billing_usage) AS bronze_count,\n",
    "       (SELECT COUNT(*) FROM platform_observability.plt_gold.gld_fact_usage_priced_day) AS gold_count\n",
    "FROM platform_observability.plt_silver.slv_usage_txn\n",
    "\n",
    "UNION ALL\n",
    "\n",
    "SELECT 'slv_compute_node_type_scd' AS silver_table,\n",
    "       COUNT(*) AS silver_count,\n",
    "       (SELECT COUNT(*) FROM platform_observability.plt_bronze.brz_compute_node_types) AS bronze_count,\n",
    "       (SELECT COUNT(*) FROM platform_observability.plt_gold.gld_dim_node_type) AS gold_count\n",
    "FROM platform_observability.plt_silver.slv_compute_node_type_scd\n",
    "\n",
    "UNION ALL\n",
    "\n",
    "SELECT 'slv_price_scd' AS silver_table,\n",
    "       COUNT(*) AS silver_count,\n",
    "       (SELECT COUNT(*) FROM platform_observability.plt_bronze.brz_billing_list_prices) AS bronze_count,\n",
    "       (SELECT COUNT(*) FROM platform_observability.plt_gold.gld_dim_sku) AS gold_count\n",
    "FROM platform_observability.plt_silver.slv_price_scd\n",
    "\n",
    "UNION ALL\n",
    "\n",
    "SELECT 'slv_job_run_timeline' AS silver_table,\n",
    "       COUNT(*) AS silver_count,\n",
    "       (SELECT COUNT(*) FROM platform_observability.plt_bronze.brz_lakeflow_job_run_timeline) AS bronze_count,\n",
    "       NULL as gold_count\n",
    "FROM platform_observability.plt_silver.slv_job_run_timeline\n",
    "\n",
    "UNION ALL\n",
    "\n",
    "SELECT 'slv_job_task_run_timeline' AS silver_table,\n",
    "       COUNT(*) AS silver_count,\n",
    "       (SELECT COUNT(*) FROM platform_observability.plt_bronze.brz_lakeflow_job_task_run_timeline) AS bronze_count,\n",
    "       NULL as gold_count\n",
    "FROM platform_observability.plt_silver.slv_job_task_run_timeline;\n"
   ]
  },
  {
   "cell_type": "code",
   "execution_count": 0,
   "metadata": {
    "application/vnd.databricks.v1+cell": {
     "cellMetadata": {
      "byteLimit": 2048000,
      "implicitDf": true,
      "rowLimit": 10000
     },
     "inputWidgets": {},
     "nuid": "1f23cabd-4225-4323-ba77-e1b487b0b4ae",
     "showTitle": false,
     "tableResultSettingsMap": {},
     "title": ""
    }
   },
   "outputs": [],
   "source": [
    "%sql\n",
    "select * from platform_observability.plt_gold.gld_fact_usage_priced_day"
   ]
  },
  {
   "cell_type": "code",
   "execution_count": 0,
   "metadata": {
    "application/vnd.databricks.v1+cell": {
     "cellMetadata": {
      "byteLimit": 2048000,
      "implicitDf": true,
      "rowLimit": 10000
     },
     "inputWidgets": {},
     "nuid": "deb3778d-c039-4c62-a10a-316761cf5d81",
     "showTitle": false,
     "tableResultSettingsMap": {
      "0": {
       "dataGridStateBlob": "{\"version\":1,\"tableState\":{\"columnPinning\":{\"left\":[\"#row_number#\"],\"right\":[]},\"columnSizing\":{},\"columnVisibility\":{}},\"settings\":{\"columns\":{}},\"syncTimestamp\":1757679890858}",
       "filterBlob": "{\"version\":1,\"filterGroups\":[],\"syncTimestamp\":1757679897511}",
       "queryPlanFiltersBlob": "[]",
       "tableResultIndex": 0
      }
     },
     "title": ""
    }
   },
   "outputs": [],
   "source": [
    "%sql\n",
    "with fct as (select * from platform_observability.plt_gold.gld_fact_usage_priced_day where cluster_key is null),\n",
    "silver as (select * from platform_observability.plt_silver.slv_usage_txn where usage_metadata.cluster_id  <> \"UNKNOWN\")\n",
    "select * from fct join silver on fct.record_id = silver.record_id"
   ]
  },
  {
   "cell_type": "code",
   "execution_count": 0,
   "metadata": {
    "application/vnd.databricks.v1+cell": {
     "cellMetadata": {
      "byteLimit": 2048000,
      "implicitDf": true,
      "rowLimit": 10000
     },
     "inputWidgets": {},
     "nuid": "d02991fc-8ae0-4923-a63f-9445a4b46242",
     "showTitle": false,
     "tableResultSettingsMap": {},
     "title": ""
    }
   },
   "outputs": [],
   "source": [
    "%sql\n",
    "select * from platform_observability.plt_silver.slv_usage_txn where record_id = 'JKcq2aTDevBK5J-kCLflWGVC'"
   ]
  },
  {
   "cell_type": "code",
   "execution_count": 0,
   "metadata": {
    "application/vnd.databricks.v1+cell": {
     "cellMetadata": {
      "byteLimit": 2048000,
      "implicitDf": true,
      "rowLimit": 10000
     },
     "inputWidgets": {},
     "nuid": "911a6430-f3ea-4beb-9800-1fba7db128bd",
     "showTitle": false,
     "tableResultSettingsMap": {},
     "title": ""
    }
   },
   "outputs": [],
   "source": [
    "%sql\n",
    "select * from system.compute.clusters where cluster_id = '0909-163523-x7hm5bwg' "
   ]
  },
  {
   "cell_type": "code",
   "execution_count": 0,
   "metadata": {
    "application/vnd.databricks.v1+cell": {
     "cellMetadata": {
      "byteLimit": 2048000,
      "implicitDf": true,
      "rowLimit": 10000
     },
     "inputWidgets": {},
     "nuid": "e116cce9-e495-451a-98e0-73e268ea8d82",
     "showTitle": false,
     "tableResultSettingsMap": {},
     "title": ""
    }
   },
   "outputs": [],
   "source": [
    "%sql\n",
    "select * from platform_observability.plt_gold.gld_dim_cluster where cluster_id = '0909-163523-x7hm5bwg' "
   ]
  },
  {
   "cell_type": "code",
   "execution_count": 0,
   "metadata": {
    "application/vnd.databricks.v1+cell": {
     "cellMetadata": {},
     "inputWidgets": {},
     "nuid": "136607a0-734d-4387-a9e6-3cfe0ca63571",
     "showTitle": false,
     "tableResultSettingsMap": {},
     "title": ""
    }
   },
   "outputs": [],
   "source": []
  }
 ],
 "metadata": {
  "application/vnd.databricks.v1+notebook": {
   "computePreferences": {
    "hardware": {
     "accelerator": null,
     "gpuPoolId": null,
     "memory": null
    }
   },
   "dashboards": [],
   "environmentMetadata": {
    "base_environment": "",
    "environment_version": "3"
   },
   "inputWidgetPreferences": null,
   "language": "python",
   "notebookMetadata": {
    "mostRecentlyExecutedCommandWithImplicitDF": {
     "commandId": 5584063449121610,
     "dataframes": [
      "_sqldf"
     ]
    },
    "pythonIndentUnit": 4
   },
   "notebookName": "test_notebook",
   "widgets": {}
  },
  "language_info": {
   "name": "python"
  }
 },
 "nbformat": 4,
 "nbformat_minor": 0
}
